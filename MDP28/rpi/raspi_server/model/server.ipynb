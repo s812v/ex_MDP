{
 "cells": [
  {
   "cell_type": "code",
   "execution_count": 1,
   "metadata": {},
   "outputs": [
    {
     "name": "stdout",
     "output_type": "stream",
     "text": [
      "Requirement already satisfied: flask in /opt/homebrew/lib/python3.11/site-packages (3.0.1)\n",
      "Collecting pyngrok\n",
      "  Downloading pyngrok-7.1.2-py3-none-any.whl.metadata (7.6 kB)\n",
      "Collecting ultralytics\n",
      "  Downloading ultralytics-8.1.16-py3-none-any.whl.metadata (40 kB)\n",
      "\u001b[2K     \u001b[90m━━━━━━━━━━━━━━━━━━━━━━━━━━━━━━━━━━━━━━━━\u001b[0m \u001b[32m40.4/40.4 kB\u001b[0m \u001b[31m2.3 MB/s\u001b[0m eta \u001b[36m0:00:00\u001b[0m\n",
      "\u001b[?25hRequirement already satisfied: opencv-python in /opt/homebrew/lib/python3.11/site-packages (4.9.0.80)\n",
      "Requirement already satisfied: matplotlib in /opt/homebrew/lib/python3.11/site-packages (3.8.2)\n",
      "Requirement already satisfied: Werkzeug>=3.0.0 in /opt/homebrew/lib/python3.11/site-packages (from flask) (3.0.1)\n",
      "Requirement already satisfied: Jinja2>=3.1.2 in /opt/homebrew/lib/python3.11/site-packages (from flask) (3.1.2)\n",
      "Requirement already satisfied: itsdangerous>=2.1.2 in /opt/homebrew/lib/python3.11/site-packages (from flask) (2.1.2)\n",
      "Requirement already satisfied: click>=8.1.3 in /opt/homebrew/lib/python3.11/site-packages (from flask) (8.1.7)\n",
      "Requirement already satisfied: blinker>=1.6.2 in /opt/homebrew/lib/python3.11/site-packages (from flask) (1.7.0)\n",
      "Requirement already satisfied: PyYAML>=5.1 in /opt/homebrew/lib/python3.11/site-packages (from pyngrok) (6.0.1)\n",
      "Requirement already satisfied: pillow>=7.1.2 in /opt/homebrew/lib/python3.11/site-packages (from ultralytics) (10.2.0)\n",
      "Requirement already satisfied: requests>=2.23.0 in /opt/homebrew/lib/python3.11/site-packages (from ultralytics) (2.28.2)\n",
      "Requirement already satisfied: scipy>=1.4.1 in /opt/homebrew/lib/python3.11/site-packages (from ultralytics) (1.12.0)\n",
      "Requirement already satisfied: torch>=1.8.0 in /opt/homebrew/lib/python3.11/site-packages (from ultralytics) (2.1.2)\n",
      "Requirement already satisfied: torchvision>=0.9.0 in /opt/homebrew/lib/python3.11/site-packages (from ultralytics) (0.16.2)\n",
      "Requirement already satisfied: tqdm>=4.64.0 in /opt/homebrew/lib/python3.11/site-packages (from ultralytics) (4.64.1)\n",
      "Requirement already satisfied: psutil in /Users/darren/Library/Python/3.11/lib/python/site-packages (from ultralytics) (5.9.8)\n",
      "Collecting py-cpuinfo (from ultralytics)\n",
      "  Downloading py_cpuinfo-9.0.0-py3-none-any.whl.metadata (794 bytes)\n",
      "Requirement already satisfied: thop>=0.1.1 in /opt/homebrew/lib/python3.11/site-packages (from ultralytics) (0.1.1.post2209072238)\n",
      "Requirement already satisfied: pandas>=1.1.4 in /opt/homebrew/lib/python3.11/site-packages (from ultralytics) (2.2.0)\n",
      "Requirement already satisfied: seaborn>=0.11.0 in /opt/homebrew/lib/python3.11/site-packages (from ultralytics) (0.13.1)\n",
      "Requirement already satisfied: numpy>=1.21.2 in /opt/homebrew/lib/python3.11/site-packages (from opencv-python) (1.24.2)\n",
      "Requirement already satisfied: contourpy>=1.0.1 in /opt/homebrew/lib/python3.11/site-packages (from matplotlib) (1.2.0)\n",
      "Requirement already satisfied: cycler>=0.10 in /opt/homebrew/lib/python3.11/site-packages (from matplotlib) (0.12.1)\n",
      "Requirement already satisfied: fonttools>=4.22.0 in /opt/homebrew/lib/python3.11/site-packages (from matplotlib) (4.47.2)\n",
      "Requirement already satisfied: kiwisolver>=1.3.1 in /opt/homebrew/lib/python3.11/site-packages (from matplotlib) (1.4.5)\n",
      "Requirement already satisfied: packaging>=20.0 in /opt/homebrew/lib/python3.11/site-packages (from matplotlib) (23.0)\n",
      "Requirement already satisfied: pyparsing>=2.3.1 in /opt/homebrew/lib/python3.11/site-packages (from matplotlib) (3.1.1)\n",
      "Requirement already satisfied: python-dateutil>=2.7 in /opt/homebrew/lib/python3.11/site-packages (from matplotlib) (2.8.2)\n",
      "Requirement already satisfied: MarkupSafe>=2.0 in /opt/homebrew/lib/python3.11/site-packages (from Jinja2>=3.1.2->flask) (2.1.2)\n",
      "Requirement already satisfied: pytz>=2020.1 in /opt/homebrew/lib/python3.11/site-packages (from pandas>=1.1.4->ultralytics) (2023.3.post1)\n",
      "Requirement already satisfied: tzdata>=2022.7 in /opt/homebrew/lib/python3.11/site-packages (from pandas>=1.1.4->ultralytics) (2023.4)\n",
      "Requirement already satisfied: six>=1.5 in /opt/homebrew/lib/python3.11/site-packages (from python-dateutil>=2.7->matplotlib) (1.16.0)\n",
      "Requirement already satisfied: charset-normalizer<4,>=2 in /opt/homebrew/lib/python3.11/site-packages (from requests>=2.23.0->ultralytics) (3.0.1)\n",
      "Requirement already satisfied: idna<4,>=2.5 in /opt/homebrew/lib/python3.11/site-packages (from requests>=2.23.0->ultralytics) (3.4)\n",
      "Requirement already satisfied: urllib3<1.27,>=1.21.1 in /opt/homebrew/lib/python3.11/site-packages (from requests>=2.23.0->ultralytics) (1.26.14)\n",
      "Requirement already satisfied: certifi>=2017.4.17 in /opt/homebrew/lib/python3.11/site-packages (from requests>=2.23.0->ultralytics) (2022.12.7)\n",
      "Requirement already satisfied: filelock in /opt/homebrew/lib/python3.11/site-packages (from torch>=1.8.0->ultralytics) (3.13.1)\n",
      "Requirement already satisfied: typing-extensions in /opt/homebrew/lib/python3.11/site-packages (from torch>=1.8.0->ultralytics) (4.5.0)\n",
      "Requirement already satisfied: sympy in /opt/homebrew/lib/python3.11/site-packages (from torch>=1.8.0->ultralytics) (1.12)\n",
      "Requirement already satisfied: networkx in /opt/homebrew/lib/python3.11/site-packages (from torch>=1.8.0->ultralytics) (2.8.8)\n",
      "Requirement already satisfied: fsspec in /opt/homebrew/lib/python3.11/site-packages (from torch>=1.8.0->ultralytics) (2023.12.2)\n",
      "Requirement already satisfied: mpmath>=0.19 in /opt/homebrew/lib/python3.11/site-packages (from sympy->torch>=1.8.0->ultralytics) (1.3.0)\n",
      "Downloading pyngrok-7.1.2-py3-none-any.whl (22 kB)\n",
      "Downloading ultralytics-8.1.16-py3-none-any.whl (715 kB)\n",
      "\u001b[2K   \u001b[90m━━━━━━━━━━━━━━━━━━━━━━━━━━━━━━━━━━━━━━━━\u001b[0m \u001b[32m715.4/715.4 kB\u001b[0m \u001b[31m7.4 MB/s\u001b[0m eta \u001b[36m0:00:00\u001b[0ma \u001b[36m0:00:01\u001b[0mm\n",
      "\u001b[?25hDownloading py_cpuinfo-9.0.0-py3-none-any.whl (22 kB)\n",
      "Installing collected packages: py-cpuinfo, pyngrok, ultralytics\n",
      "Successfully installed py-cpuinfo-9.0.0 pyngrok-7.1.2 ultralytics-8.1.16\n",
      "\n",
      "\u001b[1m[\u001b[0m\u001b[34;49mnotice\u001b[0m\u001b[1;39;49m]\u001b[0m\u001b[39;49m A new release of pip is available: \u001b[0m\u001b[31;49m23.3.2\u001b[0m\u001b[39;49m -> \u001b[0m\u001b[32;49m24.0\u001b[0m\n",
      "\u001b[1m[\u001b[0m\u001b[34;49mnotice\u001b[0m\u001b[1;39;49m]\u001b[0m\u001b[39;49m To update, run: \u001b[0m\u001b[32;49mpython3.11 -m pip install --upgrade pip\u001b[0m\n"
     ]
    }
   ],
   "source": [
    "!pip install flask pyngrok ultralytics opencv-python matplotlib"
   ]
  },
  {
   "cell_type": "code",
   "execution_count": 2,
   "metadata": {},
   "outputs": [
    {
     "name": "stdout",
     "output_type": "stream",
     "text": [
      "Collecting gdown\n",
      "  Downloading gdown-5.1.0-py3-none-any.whl.metadata (5.7 kB)\n",
      "Collecting beautifulsoup4 (from gdown)\n",
      "  Downloading beautifulsoup4-4.12.3-py3-none-any.whl.metadata (3.8 kB)\n",
      "Requirement already satisfied: filelock in /opt/homebrew/lib/python3.11/site-packages (from gdown) (3.13.1)\n",
      "Requirement already satisfied: requests[socks] in /opt/homebrew/lib/python3.11/site-packages (from gdown) (2.28.2)\n",
      "Requirement already satisfied: tqdm in /opt/homebrew/lib/python3.11/site-packages (from gdown) (4.64.1)\n",
      "Collecting soupsieve>1.2 (from beautifulsoup4->gdown)\n",
      "  Downloading soupsieve-2.5-py3-none-any.whl.metadata (4.7 kB)\n",
      "Requirement already satisfied: charset-normalizer<4,>=2 in /opt/homebrew/lib/python3.11/site-packages (from requests[socks]->gdown) (3.0.1)\n",
      "Requirement already satisfied: idna<4,>=2.5 in /opt/homebrew/lib/python3.11/site-packages (from requests[socks]->gdown) (3.4)\n",
      "Requirement already satisfied: urllib3<1.27,>=1.21.1 in /opt/homebrew/lib/python3.11/site-packages (from requests[socks]->gdown) (1.26.14)\n",
      "Requirement already satisfied: certifi>=2017.4.17 in /opt/homebrew/lib/python3.11/site-packages (from requests[socks]->gdown) (2022.12.7)\n",
      "Collecting PySocks!=1.5.7,>=1.5.6 (from requests[socks]->gdown)\n",
      "  Downloading PySocks-1.7.1-py3-none-any.whl (16 kB)\n",
      "Downloading gdown-5.1.0-py3-none-any.whl (17 kB)\n",
      "Downloading beautifulsoup4-4.12.3-py3-none-any.whl (147 kB)\n",
      "\u001b[2K   \u001b[90m━━━━━━━━━━━━━━━━━━━━━━━━━━━━━━━━━━━━━━━━\u001b[0m \u001b[32m147.9/147.9 kB\u001b[0m \u001b[31m5.6 MB/s\u001b[0m eta \u001b[36m0:00:00\u001b[0m\n",
      "\u001b[?25hDownloading soupsieve-2.5-py3-none-any.whl (36 kB)\n",
      "Installing collected packages: soupsieve, PySocks, beautifulsoup4, gdown\n",
      "Successfully installed PySocks-1.7.1 beautifulsoup4-4.12.3 gdown-5.1.0 soupsieve-2.5\n",
      "\n",
      "\u001b[1m[\u001b[0m\u001b[34;49mnotice\u001b[0m\u001b[1;39;49m]\u001b[0m\u001b[39;49m A new release of pip is available: \u001b[0m\u001b[31;49m23.3.2\u001b[0m\u001b[39;49m -> \u001b[0m\u001b[32;49m24.0\u001b[0m\n",
      "\u001b[1m[\u001b[0m\u001b[34;49mnotice\u001b[0m\u001b[1;39;49m]\u001b[0m\u001b[39;49m To update, run: \u001b[0m\u001b[32;49mpython3.11 -m pip install --upgrade pip\u001b[0m\n"
     ]
    }
   ],
   "source": [
    "!pip install gdown"
   ]
  },
  {
   "cell_type": "code",
   "execution_count": 3,
   "metadata": {},
   "outputs": [
    {
     "name": "stdout",
     "output_type": "stream",
     "text": [
      "Downloading...\n",
      "From: https://drive.google.com/uc?id=1Nans6ofOqSJHHGgU4c8rYPfa7rN2Li4u\n",
      "To: /Users/darren/Documents/NTU/Y3S2/SC2079 - MDP/MDP/MDP28/cv/best.pt\n",
      "100%|██████████████████████████████████████| 22.5M/22.5M [00:01<00:00, 13.2MB/s]\n"
     ]
    }
   ],
   "source": [
    "# download model weights (model weights from charmain gdrive)\n",
    "!gdown 1Nans6ofOqSJHHGgU4c8rYPfa7rN2Li4u"
   ]
  },
  {
   "cell_type": "code",
   "execution_count": 4,
   "metadata": {},
   "outputs": [
    {
     "name": "stdout",
     "output_type": "stream",
     "text": [
      " * ngrok tunnel \"https://49d8-155-69-194-63.ngrok-free.app\" -> \"http://127.0.0.1:5000\"\n",
      " * Serving Flask app '__main__'\n",
      " * Debug mode: off\n"
     ]
    },
    {
     "name": "stderr",
     "output_type": "stream",
     "text": [
      "\u001b[31m\u001b[1mWARNING: This is a development server. Do not use it in a production deployment. Use a production WSGI server instead.\u001b[0m\n",
      " * Running on http://127.0.0.1:5000\n",
      "\u001b[33mPress CTRL+C to quit\u001b[0m\n"
     ]
    },
    {
     "name": "stdout",
     "output_type": "stream",
     "text": [
      "\n",
      "0: 640x512 1 up, 117.9ms\n",
      "Speed: 2.3ms preprocess, 117.9ms inference, 1.1ms postprocess per image at shape (1, 3, 640, 512)\n"
     ]
    },
    {
     "data": {
      "image/png": "[encoded data removed]",
      "text/plain": [
       "<Figure size 640x480 with 1 Axes>"
      ]
     },
     "metadata": {},
     "output_type": "display_data"
    },
    {
     "name": "stderr",
     "output_type": "stream",
     "text": [
      "127.0.0.1 - - [21/Feb/2024 18:21:27] \"POST /detect HTTP/1.1\" 200 -\n"
     ]
    },
    {
     "name": "stdout",
     "output_type": "stream",
     "text": [
      "{'class_name': 'up', 'confidence': 0.6, 'bbox': [1, 0, 438, 448]}\n"
     ]
    }
   ],
   "source": [
    "import os\n",
    "\n",
    "assert os.path.exists(\"best.pt\"), \"Model weights missing! Please upload\"\n",
    "\n",
    "import threading\n",
    "\n",
    "from flask import Flask, request, jsonify\n",
    "from pyngrok import ngrok\n",
    "\n",
    "from ultralytics import YOLO\n",
    "import cv2\n",
    "import numpy as np\n",
    "import math\n",
    "\n",
    "import matplotlib.pyplot as plt\n",
    "\n",
    "app = Flask(__name__)\n",
    "port = \"5000\"\n",
    "\n",
    "ngrok.set_auth_token(\"2c1j7chXBbEg6tM4gRq6dD9OLYB_6jB8fpkKRgSGepYagjEd3\")\n",
    "\n",
    "# Open a ngrok tunnel to the HTTP server\n",
    "public_url = ngrok.connect(port).public_url\n",
    "print(\" * ngrok tunnel \\\"{}\\\" -> \\\"http://127.0.0.1:{}\\\"\".format(public_url, port))\n",
    "\n",
    "# Update any base URLs to use the public ngrok URL\n",
    "app.config[\"BASE_URL\"] = public_url\n",
    "\n",
    "# model\n",
    "model = YOLO(\"best.pt\")\n",
    "\n",
    "# object classes\n",
    "classNames = ['A', 'B', 'C', 'D', 'E', 'F', 'G', 'H', 'S', 'T',\n",
    "              'U', 'V', 'W', 'X', 'Y', 'Z', 'bulls', 'down',\n",
    "              'eight', 'five', 'four', 'left', 'nine', 'one',\n",
    "              'right', 'seven', 'six', 'stop', 'three', 'two', 'up']\n",
    "FONT = cv2.FONT_HERSHEY_SIMPLEX\n",
    "COLOR = (255, 0, 0)\n",
    "\n",
    "FONT_SCALE = 2e-3  # Adjust for larger font size in all images\n",
    "THICKNESS_SCALE = 5e-3  # Adjust for larger thickness in all images\n",
    "\n",
    "# Define Flask routes\n",
    "@app.route(\"/\")\n",
    "def index():\n",
    "    return \"Hello from Colab!\"\n",
    "\n",
    "@app.route('/detect', methods=['POST'])\n",
    "def detect():\n",
    "    if 'image' not in request.files:\n",
    "        return jsonify({\"error\": \"Missing image file\"}), 400\n",
    "\n",
    "    file = request.files['image']\n",
    "    if file.filename == '':\n",
    "        return jsonify({\"error\": \"No selected file\"}), 400\n",
    "\n",
    "    # Convert the image file to a CV2 image\n",
    "    filestr = file.read()\n",
    "    npimg = np.frombuffer(filestr, np.uint8)\n",
    "    img = cv2.imdecode(npimg, cv2.IMREAD_COLOR)\n",
    "\n",
    "    # Perform object detection\n",
    "    results = model(img, stream=True)\n",
    "    detections = []\n",
    "\n",
    "    # recolour\n",
    "    img = cv2.cvtColor(img, cv2.COLOR_BGR2RGB)\n",
    "\n",
    "    for r in results:\n",
    "        boxes = r.boxes\n",
    "        for box in boxes:\n",
    "            x1, y1, x2, y2 = box.xyxy[0]\n",
    "            x1, y1, x2, y2 = int(x1), int(y1), int(x2), int(y2)\n",
    "            confidence = math.ceil((box.conf[0]*100))/100\n",
    "            cls = int(box.cls[0])\n",
    "            class_name = classNames[cls]\n",
    "\n",
    "            detection = {\n",
    "                \"class_name\": class_name,\n",
    "                \"confidence\": confidence,\n",
    "                \"bbox\": [x1, y1, x2, y2]\n",
    "            }\n",
    "            detections.append(detection)\n",
    "\n",
    "            # add detected object label\n",
    "            org = [x1, y1]\n",
    "            height, width, _ = img.shape\n",
    "            font_scale = min(width, height) * FONT_SCALE\n",
    "            thickness = math.ceil(min(width, height) * THICKNESS_SCALE)\n",
    "            img = cv2.putText(img, class_name, org, FONT, font_scale, COLOR, thickness)\n",
    "\n",
    "            # add bounding box\n",
    "            img = cv2.rectangle(img, (x1, y1), (x2, y2), (255, 0, 255), 3)\n",
    "\n",
    "    # show image\n",
    "    plt.imshow(img)\n",
    "    plt.axis('off')\n",
    "    plt.show()\n",
    "\n",
    "\n",
    "    return jsonify(detections)\n",
    "\n",
    "# Start the Flask server in a new thread\n",
    "# threading.Thread(target=app.run, kwargs={\"use_reloader\": False}).start()\n",
    "app.run()"
   ]
  },
  {
   "cell_type": "code",
   "execution_count": 9,
   "metadata": {},
   "outputs": [
    {
     "name": "stdout",
     "output_type": "stream",
     "text": [
      "Requirement already satisfied: python-dotenv in /opt/homebrew/lib/python3.11/site-packages (1.0.1)\n",
      "\n",
      "\u001b[1m[\u001b[0m\u001b[34;49mnotice\u001b[0m\u001b[1;39;49m]\u001b[0m\u001b[39;49m A new release of pip is available: \u001b[0m\u001b[31;49m23.3.2\u001b[0m\u001b[39;49m -> \u001b[0m\u001b[32;49m24.0\u001b[0m\n",
      "\u001b[1m[\u001b[0m\u001b[34;49mnotice\u001b[0m\u001b[1;39;49m]\u001b[0m\u001b[39;49m To update, run: \u001b[0m\u001b[32;49mpython3.11 -m pip install --upgrade pip\u001b[0m\n"
     ]
    }
   ],
   "source": [
    "!pip install --upgrade python-dotenv\n"
   ]
  },
  {
   "cell_type": "code",
   "execution_count": 3,
   "metadata": {},
   "outputs": [
    {
     "name": "stdout",
     "output_type": "stream",
     "text": [
      "zsh:1: parse error near `\\n'\n",
      "ngrok - tunnel local ports to public URLs and inspect traffic\n",
      "\n",
      "USAGE:\n",
      "  ngrok [command] [flags]\n",
      "\n",
      "AUTHOR:\n",
      "  ngrok - <support@ngrok.com>\n",
      "\n",
      "COMMANDS: \n",
      "  config          update or migrate ngrok's configuration file\n",
      "  http            start an HTTP tunnel\n",
      "  tcp             start a TCP tunnel\n",
      "  tunnel          start a tunnel for use with a tunnel-group backen\n",
      "\n",
      "EXAMPLES: \n",
      "  ngrok http 80                                                 # secure public URL for port 80 web server\n",
      "  ngrok http --domain baz.ngrok.dev 8080                        # port 8080 available at baz.ngrok.dev\n",
      "  ngrok tcp 22                                                  # tunnel arbitrary TCP traffic to port 22\n",
      "  ngrok http 80 --oauth=google --oauth-allow-email=foo@foo.com  # secure your app with oauth\n",
      "\n",
      "Paid Features: \n",
      "  ngrok http 80 --domain mydomain.com                           # run ngrok with your own custom domain\n",
      "  ngrok http 80 --allow-cidr 2600:8c00::a03c:91ee:fe69:9695/32  # run ngrok with IP policy restrictions\n",
      "  Upgrade your account at https://dashboard.ngrok.com/billing/subscription to access paid features\n",
      "\n",
      "Upgrade your account at https://dashboard.ngrok.com/billing/subscription to access paid features\n",
      "\n",
      "Flags:\n",
      "  -h, --help      help for ngrok\n",
      "\n",
      "Use \"ngrok [command] --help\" for more information about a command.\n"
     ]
    }
   ],
   "source": [
    "!ngrok authtoken <2c1j7chXBbEg6tM4gRq6dD9OLYB_6jB8fpkKRgSGepYagjEd3n>  # Replace <your_auth_token> with your ngrok authentication token\n",
    "!ngrok kill ts_2cfjLmu3CBsaCZTiXQJQ1bxaIPL"
   ]
  },
  {
   "cell_type": "code",
   "execution_count": 1,
   "metadata": {},
   "outputs": [
    {
     "name": "stdout",
     "output_type": "stream",
     "text": [
      "ngrok - tunnel local ports to public URLs and inspect traffic\n",
      "\n",
      "USAGE:\n",
      "  ngrok [command] [flags]\n",
      "\n",
      "AUTHOR:\n",
      "  ngrok - <support@ngrok.com>\n",
      "\n",
      "COMMANDS: \n",
      "  config          update or migrate ngrok's configuration file\n",
      "  http            start an HTTP tunnel\n",
      "  tcp             start a TCP tunnel\n",
      "  tunnel          start a tunnel for use with a tunnel-group backen\n",
      "\n",
      "EXAMPLES: \n",
      "  ngrok http 80                                                 # secure public URL for port 80 web server\n",
      "  ngrok http --domain baz.ngrok.dev 8080                        # port 8080 available at baz.ngrok.dev\n",
      "  ngrok tcp 22                                                  # tunnel arbitrary TCP traffic to port 22\n",
      "  ngrok http 80 --oauth=google --oauth-allow-email=foo@foo.com  # secure your app with oauth\n",
      "\n",
      "Paid Features: \n",
      "  ngrok http 80 --domain mydomain.com                           # run ngrok with your own custom domain\n",
      "  ngrok http 80 --allow-cidr 2600:8c00::a03c:91ee:fe69:9695/32  # run ngrok with IP policy restrictions\n",
      "  Upgrade your account at https://dashboard.ngrok.com/billing/subscription to access paid features\n",
      "\n",
      "Upgrade your account at https://dashboard.ngrok.com/billing/subscription to access paid features\n",
      "\n",
      "Flags:\n",
      "  -h, --help      help for ngrok\n",
      "\n",
      "Use \"ngrok [command] --help\" for more information about a command.\n"
     ]
    }
   ],
   "source": [
    "!ngrok killall\n"
   ]
  }
 ],
 "metadata": {
  "kernelspec": {
   "display_name": "Python 3",
   "language": "python",
   "name": "python3"
  },
  "language_info": {
   "codemirror_mode": {
    "name": "ipython",
    "version": 3
   },
   "file_extension": ".py",
   "mimetype": "text/x-python",
   "name": "python",
   "nbconvert_exporter": "python",
   "pygments_lexer": "ipython3",
   "version": "3.11.2"
  }
 },
 "nbformat": 4,
 "nbformat_minor": 2
}
